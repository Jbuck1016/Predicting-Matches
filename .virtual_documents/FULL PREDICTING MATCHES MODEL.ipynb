import soccerdata as sd

# Assuming the Understat class accepts a list of seasons
# Correctly specify the seasons as a list of individual season strings
understat = sd.Understat(leagues=["ENG-Premier League", "ESP-La Liga", "GER-Bundesliga", "ITA-Serie A", "FRA-Ligue 1"], seasons=["2023/2024", "2022/2023", "2021/2022", "2020/2021", "2019/2020", "2018/2019", "2017/2018"])

# Print the documentation for the Understat object
print(understat.__doc__)



!pip install shap


team_match_stats = understat.read_team_match_stats()
team_match_stats.head()


team_match_stats.tail()


# Create a target variable for the match result
def determine_result(row):
    if row['home_goals'] > row['away_goals']:
        return 'Home win'
    elif row['home_goals'] < row['away_goals']:
        return 'Away win'
    else:
        return 'Draw'

team_match_stats['result'] = team_match_stats.apply(determine_result, axis=1)


import pandas as pd
# Create a season_start column 
team_match_stats['date'] = pd.to_datetime(team_match_stats['date'])
team_match_stats['season_start'] = team_match_stats['date'].apply(lambda x: x.year - 1 if x.month < 8 else x.year)


# Let's create some new features
team_match_stats.reset_index(drop=True, inplace=True)
team_match_stats.sort_values(['date'], inplace=True)


team_match_stats


# Update the rolling average goals for the home team in the main dataset
for x in team_match_stats.home_team.unique():
    temp_df = team_match_stats[(team_match_stats['home_team'] == x) | (team_match_stats['away_team'] == x)]
    temp_df = temp_df.sort_values(['date'])
    
    temp_df['goal_value_to_calculate'] = temp_df.apply(lambda y: y['home_goals'] if y['home_team'] == x else y['away_goals'], axis=1)
    temp_df['rolling_avg_goals'] = temp_df['goal_value_to_calculate'].rolling(window=5, closed="left", min_periods=1).mean()
    
    for index, row in temp_df.iterrows():
        if row['home_team'] == x:
            team_match_stats.at[index, 'home_rolling_avg_goals'] = row['rolling_avg_goals']
        else:
            team_match_stats.at[index, 'away_rolling_avg_goals'] = row['rolling_avg_goals']

# Do the same thing for xG
for x in team_match_stats.home_team.unique():
    temp_df = team_match_stats[(team_match_stats['home_team'] == x) | (team_match_stats['away_team'] == x)]
    temp_df = temp_df.sort_values(['date'])
    
    temp_df['xG_value_to_calculate'] = temp_df.apply(lambda y: y['home_xg'] if y['home_team'] == x else y['away_xg'], axis=1)
    temp_df['rolling_avg_xG'] = temp_df['xG_value_to_calculate'].rolling(window=5, closed="left", min_periods=1).mean()
    
    for index, row in temp_df.iterrows():
        if row['home_team'] == x:
            team_match_stats.at[index, 'home_rolling_avg_xG'] = row['rolling_avg_xG']
        else:
            team_match_stats.at[index, 'away_rolling_avg_xG'] = row['rolling_avg_xG']



# Update the rolling average goals for the home team in the main dataset
for x in team_match_stats.home_team.unique():
    temp_df = team_match_stats[(team_match_stats['home_team'] == x) | (team_match_stats['away_team'] == x)]
    temp_df = temp_df.sort_values(['date'])
    
    temp_df['ppda_value_to_calculate'] = temp_df.apply(lambda y: y['home_ppda'] if y['home_team'] == x else y['away_ppda'], axis=1)
    temp_df['rolling_avg_ppda'] = temp_df['ppda_value_to_calculate'].rolling(window=5, closed="left", min_periods=1).mean()
    
    for index, row in temp_df.iterrows():
        if row['home_team'] == x:
            team_match_stats.at[index, 'home_rolling_avg_ppda'] = row['rolling_avg_ppda']
        else:
            team_match_stats.at[index, 'away_rolling_avg_ppda'] = row['rolling_avg_ppda']

# Update the rolling average goals for the home team in the main dataset
for x in team_match_stats.home_team.unique():
    temp_df = team_match_stats[(team_match_stats['home_team'] == x) | (team_match_stats['away_team'] == x)]
    temp_df = temp_df.sort_values(['date'])
    
    temp_df['deep_completions_value_to_calculate'] = temp_df.apply(lambda y: y['home_deep_completions'] if y['home_team'] == x else y['away_deep_completions'], axis=1)
    temp_df['rolling_avg_deep_completions'] = temp_df['deep_completions_value_to_calculate'].rolling(window=5, closed="left", min_periods=1).mean()
    
    for index, row in temp_df.iterrows():
        if row['home_team'] == x:
            team_match_stats.at[index, 'home_rolling_avg_deep_completions'] = row['rolling_avg_deep_completions']
        else:
            team_match_stats.at[index, 'away_rolling_avg_deep_completions'] = row['rolling_avg_deep_completions']






# Update the rolling average goals for the home team in the main dataset
for x in team_match_stats.home_team.unique():
    temp_df = team_match_stats[(team_match_stats['home_team'] == x) | (team_match_stats['away_team'] == x)]
    temp_df = temp_df.sort_values(['date'])
    
    temp_df['goal_allowed_value_to_calculate'] = temp_df.apply(lambda y: y['away_goals'] if y['home_team'] == x else y['home_goals'], axis=1)
    temp_df['rolling_avg_goals_allowed'] = temp_df['goal_allowed_value_to_calculate'].rolling(window=5, closed="left", min_periods=1).mean()
    
    for index, row in temp_df.iterrows():
        if row['home_team'] == x:
            team_match_stats.at[index, 'home_rolling_avg_goals_allowed'] = row['rolling_avg_goals_allowed']
        else:
            team_match_stats.at[index, 'away_rolling_avg_goals_allowed'] = row['rolling_avg_goals_allowed']

# Do the same thing for xG
for x in team_match_stats.home_team.unique():
    temp_df = team_match_stats[(team_match_stats['home_team'] == x) | (team_match_stats['away_team'] == x)]
    temp_df = temp_df.sort_values(['date'])
    
    temp_df['xG_allowed_value_to_calculate'] = temp_df.apply(lambda y: y['away_xg'] if y['home_team'] == x else y['home_xg'], axis=1)
    temp_df['rolling_avg_xG_allowed'] = temp_df['xG_allowed_value_to_calculate'].rolling(window=5, closed="left", min_periods=1).mean()
    
    for index, row in temp_df.iterrows():
        if row['home_team'] == x:
            team_match_stats.at[index, 'home_rolling_avg_xG_allowed'] = row['rolling_avg_xG_allowed']
        else:
            team_match_stats.at[index, 'away_rolling_avg_xG_allowed'] = row['rolling_avg_xG_allowed']

# Update the rolling average goals for the home team in the main dataset
for x in team_match_stats.home_team.unique():
    temp_df = team_match_stats[(team_match_stats['home_team'] == x) | (team_match_stats['away_team'] == x)]
    temp_df = temp_df.sort_values(['date'])
    
    temp_df['ppda_allowed_value_to_calculate'] = temp_df.apply(lambda y: y['away_ppda'] if y['home_team'] == x else y['home_ppda'], axis=1)
    temp_df['rolling_avg_ppda_allowed'] = temp_df['ppda_allowed_value_to_calculate'].rolling(window=5, closed="left", min_periods=1).mean()
    
    for index, row in temp_df.iterrows():
        if row['home_team'] == x:
            team_match_stats.at[index, 'home_rolling_avg_ppda_allowed'] = row['rolling_avg_ppda_allowed']
        else:
            team_match_stats.at[index, 'away_rolling_avg_ppda_allowed'] = row['rolling_avg_ppda_allowed']

# Update the rolling average goals for the home team in the main dataset
for x in team_match_stats.home_team.unique():
    temp_df = team_match_stats[(team_match_stats['home_team'] == x) | (team_match_stats['away_team'] == x)]
    temp_df = temp_df.sort_values(['date'])
    
    temp_df['deep_completions_allowed_value_to_calculate'] = temp_df.apply(lambda y: y['away_deep_completions'] if y['home_team'] == x else y['home_deep_completions'], axis=1)
    temp_df['rolling_avg_deep_completions_allowed'] = temp_df['deep_completions_allowed_value_to_calculate'].rolling(window=5, closed="left", min_periods=1).mean()
    
    for index, row in temp_df.iterrows():
        if row['home_team'] == x:
            team_match_stats.at[index, 'home_rolling_avg_deep_completions_allowed'] = row['rolling_avg_deep_completions_allowed']
        else:
            team_match_stats.at[index, 'away_rolling_avg_deep_completions_allowed'] = row['rolling_avg_deep_completions_allowed']

# Calculate home and away rolling average xG difference
for x in team_match_stats.home_team.unique():
    temp_df = team_match_stats[(team_match_stats['home_team'] == x) | (team_match_stats['away_team'] == x)]
    temp_df = temp_df.sort_values('date')

    temp_df['xG_diff_value_to_calculate'] = temp_df.apply(lambda y: y['home_rolling_avg_xG'] - y['home_rolling_avg_xG_allowed'] if y['home_team'] == x else y['away_rolling_avg_xG'] - y['away_rolling_avg_xG_allowed'], axis=1)
    temp_df['rolling_avg_xG_diff'] = temp_df['xG_diff_value_to_calculate'].rolling(window=5, closed="left", min_periods=1).mean()
    
    for index, row in temp_df.iterrows():
        if row['home_team'] == x:
            team_match_stats.at[index, 'home_rolling_avg_xG_diff'] = row['rolling_avg_xG_diff']
        else:
            team_match_stats.at[index, 'away_rolling_avg_xG_diff'] = row['rolling_avg_xG_diff']

# Calculate home and away rolling average xG difference
for x in team_match_stats.home_team.unique():
    temp_df = team_match_stats[(team_match_stats['home_team'] == x) | (team_match_stats['away_team'] == x)]
    temp_df = temp_df.sort_values('date')

    temp_df['deep_completions_diff_value_to_calculate'] = temp_df.apply(lambda y: y['home_rolling_avg_deep_completions'] - y['home_rolling_avg_deep_completions_allowed'] if y['home_team'] == x else y['away_rolling_avg_deep_completions'] - y['away_rolling_avg_deep_completions_allowed'], axis=1)
    temp_df['rolling_avg_deep_completions_diff'] = temp_df['deep_completions_diff_value_to_calculate'].rolling(window=5, closed="left", min_periods=1).mean()
    
    for index, row in temp_df.iterrows():
        if row['home_team'] == x:
            team_match_stats.at[index, 'home_rolling_avg_deep_completions_diff'] = row['rolling_avg_deep_completions_diff']
        else:
            team_match_stats.at[index, 'away_rolling_avg_deep_completions_diff'] = row['rolling_avg_deep_completions_diff']

# Calculate home and away rolling average xG difference
for x in team_match_stats.home_team.unique():
    temp_df = team_match_stats[(team_match_stats['home_team'] == x) | (team_match_stats['away_team'] == x)]
    temp_df = temp_df.sort_values('date')

    temp_df['goals_diff_value_to_calculate'] = temp_df.apply(lambda y: y['home_rolling_avg_goals'] - y['home_rolling_avg_goals_allowed'] if y['home_team'] == x else y['away_rolling_avg_goals'] - y['away_rolling_avg_goals_allowed'], axis=1)
    temp_df['rolling_avg_goals_diff'] = temp_df['goals_diff_value_to_calculate'].rolling(window=5, closed="left", min_periods=1).mean()
    
    for index, row in temp_df.iterrows():
        if row['home_team'] == x:
            team_match_stats.at[index, 'home_rolling_avg_goals_diff'] = row['rolling_avg_goals_diff']
        else:
            team_match_stats.at[index, 'away_rolling_avg_goals_diff'] = row['rolling_avg_goals_diff']




team_match_stats = team_match_stats.dropna(subset=['home_rolling_avg_goals', 'away_rolling_avg_goals', 'home_rolling_avg_xG', 'away_rolling_avg_xG', 'home_rolling_avg_deep_completions', 'away_rolling_avg_deep_completions',
                                                    'home_rolling_avg_xG_diff', 'away_rolling_avg_xG_diff', 'home_rolling_avg_deep_completions_diff', 'away_rolling_avg_deep_completions_diff', 'home_rolling_avg_goals_diff', 'away_rolling_avg_goals_diff',
                                                    
                                                   'home_rolling_avg_deep_completions_allowed', 'away_rolling_avg_deep_completions_allowed', 'home_rolling_avg_xG_allowed', 'away_rolling_avg_xG_allowed', 'home_rolling_avg_goals_allowed', 'away_rolling_avg_goals_allowed', 
                                                 ])



team_match_stats.columns


team_match_stats[(team_match_stats['home_team'] == 'Arsenal') | (team_match_stats['away_team'] == 'Arsenal')][['date', 'home_team', 'away_team', 'home_rolling_avg_goals', 'away_rolling_avg_goals',
       'home_rolling_avg_xG', 'away_rolling_avg_xG', 'home_rolling_avg_ppda',
       'away_rolling_avg_ppda', 'home_rolling_avg_deep_completions',
       'away_rolling_avg_deep_completions', 'home_rolling_avg_goals_allowed',
       'away_rolling_avg_goals_allowed', 'home_rolling_avg_xG_allowed',
       'away_rolling_avg_xG_allowed', 'home_rolling_avg_ppda_allowed',
       'away_rolling_avg_ppda_allowed',
       'home_rolling_avg_deep_completions_allowed',
       'away_rolling_avg_deep_completions_allowed', 'home_rolling_avg_xG_diff',
       'away_rolling_avg_xG_diff', 'home_rolling_avg_deep_completions_diff',
       'away_rolling_avg_deep_completions_diff', 'home_rolling_avg_goals_diff',
       'away_rolling_avg_goals_diff']]



# Let's train a model to predict the match result
from sklearn.ensemble import RandomForestClassifier
from sklearn.metrics import accuracy_score
from sklearn.metrics import confusion_matrix

print(team_match_stats.columns)


features = [column for column in team_match_stats.drop(columns=['league_id', 'season_id', 'game_id', 'home_team_id',
       'away_team_id', 'home_team', 'away_team', 'away_team_code',
       'home_team_code', 'away_points', 'away_expected_points', 'away_goals',
       'away_xg', 'away_np_xg', 'away_np_xg_difference', 'away_ppda',
       'away_deep_completions', 'home_points', 'home_expected_points',
       'home_goals', 'home_xg', 'home_np_xg', 'home_np_xg_difference',
       'home_ppda', 'home_deep_completions', 'result', 'season_start', 'date']).columns]



features


import pandas as pd
import numpy as np
import xgboost as xgb
from sklearn.metrics import mean_squared_error, mean_absolute_error, r2_score
import matplotlib.pyplot as plt


# Assuming team_match_stats DataFrame is preloaded and has the necessary columns

# Split the dataset based on 'season_start' value
train_data = team_match_stats[team_match_stats['season_start'] <= 2022]
test_data = team_match_stats[team_match_stats['season_start'] == 2023]

# Define feature columns
feature_columns = [
    'home_rolling_avg_goals_allowed', 'away_rolling_avg_goals_allowed', 
    'home_rolling_avg_xG_allowed', 'away_rolling_avg_xG_allowed', 
    'home_rolling_avg_ppda_allowed', 'away_rolling_avg_ppda_allowed', 
    'home_rolling_avg_deep_completions_allowed', 'away_rolling_avg_deep_completions_allowed', 
    'home_rolling_avg_goals', 'away_rolling_avg_goals', 
    'home_rolling_avg_xG', 'away_rolling_avg_xG', 
    'home_rolling_avg_ppda', 'away_rolling_avg_ppda', 
    'home_rolling_avg_deep_completions', 'away_rolling_avg_deep_completions', 
    'home_rolling_avg_xG_diff', 'away_rolling_avg_xG_diff', 
    'home_rolling_avg_deep_completions_diff', 'away_rolling_avg_deep_completions_diff', 
    'home_rolling_avg_goals_diff', 'away_rolling_avg_goals_diff'
]

# Prepare training and testing sets for both home and away goals
X_train = train_data[feature_columns]
y_train_home = train_data['home_goals']
y_train_away = train_data['away_goals']

X_test = test_data[feature_columns]
y_test_home = test_data['home_goals']
y_test_away = test_data['away_goals']

# Train the model for home goals
model_home = xgb.XGBRegressor(objective='reg:squarederror')
model_home.fit(X_train, y_train_home)

# Train the model for away goals
model_away = xgb.XGBRegressor(objective='reg:squarederror')
model_away.fit(X_train, y_train_away)

# Predict on the test set
y_pred_home = model_home.predict(X_test)
y_pred_away = model_away.predict(X_test)

# Calculate RMSE
rmse_home = np.sqrt(mean_squared_error(y_test_home, y_pred_home))
rmse_away = np.sqrt(mean_squared_error(y_test_away, y_pred_away))

# Calculate MAE
mae_home = mean_absolute_error(y_test_home, y_pred_home)
mae_away = mean_absolute_error(y_test_away, y_pred_away)

# Calculate R-squared
r2_home = r2_score(y_test_home, y_pred_home)
r2_away = r2_score(y_test_away, y_pred_away)

# Output the metrics
print("Home Goals Prediction:")
print(f"RMSE: {rmse_home}")
print(f"MAE: {mae_home}")
print(f"R^2: {r2_home}\n")

print("Away Goals Prediction:")
print(f"RMSE: {rmse_away}")
print(f"MAE: {mae_away}")
print(f"R^2: {r2_away}")




# Function to plot predictions against actual values
def plot_predictions(y_true, y_pred, title):
    plt.figure(figsize=(10, 6))
    plt.scatter(y_true, y_pred, alpha=0.3)
    plt.plot([y_true.min(), y_true.max()], [y_true.min(), y_true.max()], '--k')
    plt.xlabel('Actual')
    plt.ylabel('Predicted')
    plt.title(title)
    plt.show()

# Function to plot residuals
def plot_residuals(y_true, y_pred, title):
    residuals = y_true - y_pred
    plt.figure(figsize=(10, 6))
    plt.hist(residuals, bins=30, alpha=0.5, color='red')
    plt.title(f'Residuals Distribution for {title}')
    plt.show()

# Plotting for home goals
plot_predictions(y_test_home, y_pred_home, "Home Goals: Predicted vs Actual")
plot_residuals(y_test_home, y_pred_home, "Home Goals")

# Plotting for away goals
plot_predictions(y_test_away, y_pred_away, "Away Goals: Predicted vs Actual")
plot_residuals(y_test_away, y_pred_away, "Away Goals")



schedule = understat.read_schedule()
schedule['Date'] = pd.to_datetime(schedule['date']).dt.date

# Display the modified DataFrame
schedule


# Convert 'Date' column to datetime if not already
schedule['Date'] = pd.to_datetime(schedule['Date'])

# Define the date range
start_date = pd.Timestamp('2024-05-18')
end_date = pd.Timestamp('2024-05-20')

# Filter the DataFrame to include only the dates within the specified range
filtered_schedule = schedule[(schedule['Date'] >= start_date) & (schedule['Date'] <= end_date)]

filtered_schedule['Game Matchup'] = filtered_schedule['home_team'] + ' vs ' + filtered_schedule['away_team']

# Print the DataFrame to verify that the new column has been added correctly
print(filtered_schedule[['home_team', 'away_team', 'Game Matchup']])


filtered_schedule.reset_index(drop=True, inplace=True)
filtered_schedule


import pandas as pd
import numpy as np
import xgboost as xgb
from joblib import Parallel, delayed

# Assuming 'team_match_stats', 'filtered_schedule', 'model_home', 'model_away', and 'X_train' are already defined and loaded

score_results_df = pd.DataFrame()

for index, match in filtered_schedule.iterrows():
    home_team = match['home_team']
    away_team = match['away_team']
    league = match['league_id']

    home_columns = ['home_rolling_avg_goals', 'home_rolling_avg_xG', 'home_rolling_avg_ppda', 'home_rolling_avg_deep_completions',
                    'home_rolling_avg_goals_allowed', 'home_rolling_avg_xG_allowed', 'home_rolling_avg_ppda_allowed',
                    'home_rolling_avg_deep_completions_allowed', 'home_rolling_avg_xG_diff', 'home_rolling_avg_deep_completions_diff', 'home_rolling_avg_goals_diff']
    away_columns = ['away_rolling_avg_goals', 'away_rolling_avg_xG', 'away_rolling_avg_ppda', 'away_rolling_avg_deep_completions',
                    'away_rolling_avg_goals_allowed', 'away_rolling_avg_xG_allowed', 'away_rolling_avg_ppda_allowed',
                    'away_rolling_avg_deep_completions_allowed', 'away_rolling_avg_xG_diff', 'away_rolling_avg_deep_completions_diff', 'away_rolling_avg_goals_diff']

    home_stats = team_match_stats[(team_match_stats['home_team'] == home_team) & (team_match_stats['season_start'] == 2023)][home_columns].mean()
    away_stats = team_match_stats[(team_match_stats['away_team'] == away_team) & (team_match_stats['season_start'] == 2023)][away_columns].mean()

    match_data = {
        'home_rolling_avg_goals': [home_stats['home_rolling_avg_goals']],
        'away_rolling_avg_goals': [away_stats['away_rolling_avg_goals']],
        'home_rolling_avg_xG': [home_stats['home_rolling_avg_xG']],
        'away_rolling_avg_xG': [away_stats['away_rolling_avg_xG']],
        'home_rolling_avg_ppda': [home_stats['home_rolling_avg_ppda']],
        'away_rolling_avg_ppda': [away_stats['away_rolling_avg_ppda']],
        'home_rolling_avg_deep_completions': [home_stats['home_rolling_avg_deep_completions']],
        'away_rolling_avg_deep_completions': [away_stats['away_rolling_avg_deep_completions']],
        'home_rolling_avg_goals_allowed': [home_stats['home_rolling_avg_goals_allowed']],
        'away_rolling_avg_goals_allowed': [away_stats['away_rolling_avg_goals_allowed']],
        'home_rolling_avg_xG_allowed': [home_stats['home_rolling_avg_xG_allowed']],
        'away_rolling_avg_xG_allowed': [away_stats['away_rolling_avg_xG_allowed']],
        'home_rolling_avg_ppda_allowed': [home_stats['home_rolling_avg_ppda_allowed']],
        'away_rolling_avg_ppda_allowed': [away_stats['away_rolling_avg_ppda_allowed']],
        'home_rolling_avg_deep_completions_allowed': [home_stats['home_rolling_avg_deep_completions_allowed']],
        'away_rolling_avg_deep_completions_allowed': [away_stats['away_rolling_avg_deep_completions_allowed']],
        'home_rolling_avg_xG_diff': [home_stats['home_rolling_avg_xG_diff']],
        'away_rolling_avg_xG_diff': [away_stats['away_rolling_avg_xG_diff']],
        'home_rolling_avg_deep_completions_diff': [home_stats['home_rolling_avg_deep_completions_diff']],
        'away_rolling_avg_deep_completions_diff': [away_stats['away_rolling_avg_deep_completions_diff']],
        'home_rolling_avg_goals_diff': [home_stats['home_rolling_avg_goals_diff']],
        'away_rolling_avg_goals_diff': [away_stats['away_rolling_avg_goals_diff']],
    }

    # Append the league to the match data
    match_data['league_id'] = league

    home_stats = team_match_stats[(team_match_stats['home_team'] == home_team) & (team_match_stats['season_start'] == 2023)][X_train.columns].iloc[-1]
    away_stats = team_match_stats[(team_match_stats['away_team'] == away_team) & (team_match_stats['season_start'] == 2023)][X_train.columns].iloc[-1]

    # Create a single-row DataFrame for each team for predictions
    home_df = pd.DataFrame([home_stats])
    away_df = pd.DataFrame([away_stats])

    # Predict goals for home and away team
    home_goal_prediction = model_home.predict(home_df)[0]  # Assuming the model returns a scalar prediction
    away_goal_prediction = model_away.predict(away_df)[0]  # Assuming the model returns a scalar prediction

    # Append results
    current_result = pd.DataFrame({
        'Game Matchup': [f"{home_team} vs {away_team}"],
        'Predicted Home Goals': [home_goal_prediction],
        'Predicted Away Goals': [away_goal_prediction],
        'League': [league]
    })
    score_results_df = pd.concat([score_results_df, current_result], ignore_index=True)

# Show results
score_results_df


score_results_df


# Split the data into train and test sets
train_data = team_match_stats[team_match_stats['season_start'] <= 2022]
test_data = team_match_stats[team_match_stats['season_start'] == 2023]

X_train = train_data[features]
y_train = train_data['result']
X_test = test_data[features]
y_test = test_data['result']


# Train a Random Forest model
clf = RandomForestClassifier(random_state=1)
clf.fit(X_train, y_train)


# Make predictions
predictions = clf.predict(X_test)

# Evaluate the model
accuracy = accuracy_score(y_test, predictions)
accuracy





features


import pandas as pd

# Assuming 'team_match_stats', 'filtered_schedule', 'clf', and 'X_train' are already defined and loaded

results_df = pd.DataFrame(columns=['Game Matchup', 'Probability Home Win', 'Probability Draw', 'Probability Away Win'])

for index, match in filtered_schedule.iterrows():
    home_team = match['home_team']
    away_team = match['away_team']
    league = match['league_id']


    home_columns = ['home_rolling_avg_goals', 'home_rolling_avg_xG', 'home_rolling_avg_ppda', 'home_rolling_avg_deep_completions',
                    'home_rolling_avg_goals_allowed', 'home_rolling_avg_xG_allowed', 'home_rolling_avg_ppda_allowed',
                    'home_rolling_avg_deep_completions_allowed', 'home_rolling_avg_xG_diff', 'home_rolling_avg_deep_completions_diff', 'home_rolling_avg_goals_diff']
    away_columns = ['away_rolling_avg_goals', 'away_rolling_avg_xG', 'away_rolling_avg_ppda', 'away_rolling_avg_deep_completions',
                    'away_rolling_avg_goals_allowed', 'away_rolling_avg_xG_allowed', 'away_rolling_avg_ppda_allowed',
                    'away_rolling_avg_deep_completions_allowed', 'away_rolling_avg_xG_diff', 'away_rolling_avg_deep_completions_diff', 'away_rolling_avg_goals_diff' ]

    home_stats = team_match_stats[(team_match_stats['home_team'] == home_team) & (team_match_stats['season_start'] == 2023)][home_columns].mean()
    away_stats = team_match_stats[(team_match_stats['away_team'] == away_team) & (team_match_stats['season_start'] == 2023)][away_columns].mean()

    data = {
        'home_rolling_avg_goals': [home_stats['home_rolling_avg_goals']],
        'away_rolling_avg_goals': [away_stats['away_rolling_avg_goals']],
        'home_rolling_avg_xG': [home_stats['home_rolling_avg_xG']],
        'away_rolling_avg_xG': [away_stats['away_rolling_avg_xG']],
        'home_rolling_avg_ppda': [home_stats['home_rolling_avg_ppda']],
        'away_rolling_avg_ppda': [away_stats['away_rolling_avg_ppda']],
        'home_rolling_avg_deep_completions': [home_stats['home_rolling_avg_deep_completions']],
        'away_rolling_avg_deep_completions': [away_stats['away_rolling_avg_deep_completions']],
        'home_rolling_avg_goals_allowed': [home_stats['home_rolling_avg_goals_allowed']],
        'away_rolling_avg_goals_allowed': [away_stats['away_rolling_avg_goals_allowed']],
        'home_rolling_avg_xG_allowed': [home_stats['home_rolling_avg_xG_allowed']],
        'away_rolling_avg_xG_allowed': [away_stats['away_rolling_avg_xG_allowed']],
        'home_rolling_avg_ppda_allowed': [home_stats['home_rolling_avg_ppda_allowed']],
        'away_rolling_avg_ppda_allowed': [away_stats['away_rolling_avg_ppda_allowed']],
        'home_rolling_avg_deep_completions_allowed': [home_stats['home_rolling_avg_deep_completions_allowed']],
        'away_rolling_avg_deep_completions_allowed': [away_stats['away_rolling_avg_deep_completions_allowed']],
        'home_rolling_avg_xG_diff': [home_stats['home_rolling_avg_xG_diff']],
        'away_rolling_avg_xG_diff': [away_stats['away_rolling_avg_xG_diff']],
        'home_rolling_avg_deep_completions_diff': [home_stats['home_rolling_avg_deep_completions_diff']],
        'away_rolling_avg_deep_completions_diff': [away_stats['away_rolling_avg_deep_completions_diff']],
        'home_rolling_avg_goals_diff': [home_stats['home_rolling_avg_goals_diff']],
        'away_rolling_avg_goals_diff': [away_stats['away_rolling_avg_goals_diff']],



    }
    match_data['league_id'] = league


    match_df = pd.DataFrame(data)
    for column in X_train.columns:
        if column not in match_df.columns:
            match_df[column] = 0

    match_df = match_df[X_train.columns]

    probabilities = clf.predict_proba(match_df)

    current_results = pd.DataFrame({
        'Game Matchup': [match['Game Matchup']],
        'Probability Home Win': [probabilities[0][2]],
        'Probability Draw': [probabilities[0][1]],
        'Probability Away Win': [probabilities[0][0]],
        'League': [league]

    })

    results_df = pd.concat([results_df, current_results], ignore_index=True)

# Convert probabilities to percentages
results_df['Probability Home Win'] = (results_df['Probability Home Win'] * 100).round(2)
results_df['Probability Draw'] = (results_df['Probability Draw'] * 100).round(2)
results_df['Probability Away Win'] = (results_df['Probability Away Win'] * 100).round(2)

# Determine the highest probability and assign the predicted result using np.select()
import numpy as np

conditions = [
    (results_df['Probability Home Win'] > results_df['Probability Away Win']) & (results_df['Probability Home Win'] > results_df['Probability Draw']),
    (results_df['Probability Away Win'] > results_df['Probability Home Win']) & (results_df['Probability Away Win'] > results_df['Probability Draw']),
    (results_df['Probability Draw'] > results_df['Probability Home Win']) & (results_df['Probability Draw'] > results_df['Probability Away Win'])
]

choices = ['Home Win', 'Away Win', 'Draw']
results_df['Predicted Result'] = np.select(conditions, choices, default='Draw')  # Default to 'Draw' if probabilities are equal

results_df



merged_df = results_df.merge(score_results_df[['Game Matchup', 'Predicted Home Goals', 'Predicted Away Goals']], on='Game Matchup', how='left')

# Display the merged dataframe
merged_df


import requests
import pandas as pd

# Your API key for the odds API
api_key = 'fbfe4cd6eb74292626a2d30469872e96'

# List of URLs to fetch odds data from
urls = [
    'https://api.the-odds-api.com/v4/sports/soccer_france_ligue_one/odds/',
    'https://api.the-odds-api.com/v4/sports/soccer_epl/odds/',
    'https://api.the-odds-api.com/v4/sports/soccer_germany_bundesliga/odds/',
    'https://api.the-odds-api.com/v4/sports/soccer_italy_serie_a/odds/',
    'https://api.the-odds-api.com/v4/sports/soccer_spain_la_liga/odds/'
]

# Parameters for the API request
params = {
    'apiKey': api_key,
    'regions': 'us',  # Adjust if targeting a different region
    'markets': 'h2h',  # Head-to-head odds; adjust if looking for different market types
    'bookmakers': 'bovada',
    'oddsFormat': 'decimal'
}

# Function to fetch odds data from a given URL
def fetch_odds_data(url):
    response = requests.get(url, params=params)
    if response.status_code == 200:
        return response.json()
    else:
        print(f"Error fetching data from {url}: {response.status_code}")
        return []

# Initialize an empty list to hold all odds data
all_odds_data = []

# Fetch odds data from each URL
for url in urls:
    odds_data = fetch_odds_data(url)
    all_odds_data.extend(odds_data)

# Initialize an empty list to hold the simplified odds data
odds_data_list = []

# Iterate over the combined odds data
for event in all_odds_data:
    home_team = event.get('home_team')
    away_team = event.get('away_team')
    start_time = event.get('commence_time')  # Assuming datetime format or additional parsing might be needed
    
    # Initialize odds
    home_odds = 'N/A'
    away_odds = 'N/A'
    draw_odds = 'N/A'  # Initialize draw odds variable

    # Iterate through bookmakers to find Bovada and extract the odds
    for bookmaker in event.get('bookmakers', []):
        if bookmaker['key'].lower() == 'bovada':  # Ensure case-insensitive matching
            markets = bookmaker.get('markets', [])
            if markets:
                outcomes = markets[0].get('outcomes', [])
                for outcome in outcomes:
                    # Check and assign odds based on the team or if it's a draw
                    if outcome['name'] == home_team:
                        home_odds = outcome.get('price', 'N/A')
                    elif outcome['name'] == away_team:
                        away_odds = outcome.get('price', 'N/A')
                    elif outcome['name'].lower() == 'draw':  # Check for draw odds
                        draw_odds = outcome.get('price', 'N/A')

    # Append the data including draw odds to the list
    odds_data_list.append({
        'Game Matchup': f"{home_team} vs. {away_team}",
        'Home Odds': home_odds,
        'Away Odds': away_odds,
        'Draw Odds': draw_odds,  # Include draw odds
        'Start Time': start_time
    })

# Convert the list to a DataFrame
odds_df = pd.DataFrame(odds_data_list)

# Mapping for name replacements
name_replacements = {
    'RC Lens': 'Lens',
    'AS Monaco': 'Monaco',
    'SC Freiburg': 'Freiburg',
    'Stade de Reims': 'Reims',
    'Clermont': 'Clermont Foot',
    'Athletic Bilbao': 'Athletic Club',
    'Cádiz CF': 'Cadiz',
    'CA Osasuna': 'Osasuna',
    'Alavés': 'Alaves',
    'Atlético Madrid': 'Atletico Madrid',
    'Almería': 'Almeria',
    'Granada CF': 'Granada',
    'TSG Hoffenheim': 'Hoffenheim',
    'Borussia Monchengladbach': 'Borussia M.Gladbach',
    'SC Freiburg': 'Freiburg',
    'RB Leipzig': 'RasenBallsport Leipzig',
    'FSV Mainz 05': 'Mainz 05',
    'VfL Wolfsburg': 'Wolfsburg',
    'FC Koln': 'FC Cologne',
    'VfL Bochum': 'Bochum',
    'SV Darmstadt 98': 'Darmstadt',
    'Atalanta BC': 'Atalanta',
    'Hellas Verona FC': 'Verona',
    'Inter Milan': 'Inter',
    'AS Roma': 'Roma',
    'Brighton and Hove Albion': 'Brighton',
    'West Ham United': 'West Ham',
    'Tottenham Hotspur': 'Tottenham'
    
    
    
}

for original_name, new_name in name_replacements.items():
    odds_df['Game Matchup'] = odds_df['Game Matchup'].str.replace(original_name, new_name, regex=False)

# Strip the '.' after 'vs' in the 'Game Matchup' column
odds_df['Game Matchup'] = odds_df['Game Matchup'].str.replace(r'vs\.', 'vs', regex=True)

# Adjust the Start Time column to display only the date

# Assuming 'combined_projected_goals_df' exists and has a 'Game Matchup' column
# Merge the dataframes on 'Game Matchup'
merged_with_odds_df = pd.merge(merged_df, odds_df, on='Game Matchup', how='left')
merged_with_odds_df.dropna(inplace=True)
merged_with_odds_df['Start Time'] = merged_with_odds_df['Start Time'].str.split('T').str[0]

# Now 'merged_with_odds_df' contains both the projected probabilities and the odds
merged_with_odds_df


# Convert percentage strings to decimal probabilities
merged_with_odds_df['Probability Home Win'] = merged_with_odds_df['Probability Home Win'].astype(float) / 100
merged_with_odds_df['Probability Away Win'] = merged_with_odds_df['Probability Away Win'].astype(float) / 100
merged_with_odds_df['Probability Draw'] = merged_with_odds_df['Probability Draw'].astype(float) / 100

# Calculate implied odds
merged_with_odds_df['Implied Home Odds'] = 1 / merged_with_odds_df['Probability Home Win']
merged_with_odds_df['Implied Away Odds'] = 1 / merged_with_odds_df['Probability Away Win']
merged_with_odds_df['Implied Draw Odds'] = 1 / merged_with_odds_df['Probability Draw']

# Create a new DataFrame with implied odds
implied_odds_df = merged_with_odds_df[['Game Matchup', 'Implied Home Odds', 'Implied Away Odds', 'Implied Draw Odds', 'Home Odds', 'Away Odds', 'Draw Odds']].copy()

# Calculate edge for home win
implied_odds_df['Home Win Edge'] = round((1 / implied_odds_df['Implied Home Odds']) * implied_odds_df['Home Odds'] - 1, 2)

# Calculate edge for away win
implied_odds_df['Away Win Edge'] = round((1 / implied_odds_df['Implied Away Odds']) * implied_odds_df['Away Odds'] - 1, 2)

# Calculate edge for draw
implied_odds_df['Draw Edge'] = round((1 / implied_odds_df['Implied Draw Odds']) * implied_odds_df['Draw Odds'] - 1, 2)

# Round implied odds to 2 decimal points
implied_odds_df['Implied Home Odds'] = round(implied_odds_df['Implied Home Odds'], 2)
implied_odds_df['Implied Away Odds'] = round(implied_odds_df['Implied Away Odds'], 2)
implied_odds_df['Implied Draw Odds'] = round(implied_odds_df['Implied Draw Odds'], 2)

# Display the final DataFrame
implied_odds_df


# Select only the columns to be merged
selected_columns = ['Game Matchup', 'Home Win Edge', 'Away Win Edge', 'Draw Edge']

# Merge the selected columns from implied_odds_df with merged_with_odds_df on the 'Game Matchup' column
implied_odds_with_goals_3 = merged_with_odds_df.merge(implied_odds_df[selected_columns], on='Game Matchup', how='left')

# Display the DataFrame with projected goals and the additional implied odds and edges
implied_odds_with_goals_3


def decimal_to_american(decimal_odds):
    """
    Convert decimal odds to American odds, adding a '+' sign for positive odds.
    
    Parameters:
    - decimal_odds: float representing the decimal odds.
    
    Returns:
    - str: The American odds as a string, with '+' for positive odds.
    """
    if decimal_odds >= 2.00:
        american_odds = int((decimal_odds - 1) * 100)
    else:
        american_odds = int(-100 / (decimal_odds - 1))
    
    # Add '+' for positive odds
    if american_odds > 0:
        return f'+{american_odds}'
    else:
        return str(american_odds)

# Apply the conversion function to the relevant columns in the new DataFrame
implied_odds_with_goals_3['Implied Home Odds American'] = implied_odds_with_goals_3['Implied Home Odds'].apply(decimal_to_american)
implied_odds_with_goals_3['Implied Away Odds American'] = implied_odds_with_goals_3['Implied Away Odds'].apply(decimal_to_american)
implied_odds_with_goals_3['Implied Draw Odds American'] = implied_odds_with_goals_3['Implied Draw Odds'].apply(decimal_to_american)
implied_odds_with_goals_3['Home Odds American'] = implied_odds_with_goals_3['Home Odds'].apply(decimal_to_american)
implied_odds_with_goals_3['Away Odds American'] = implied_odds_with_goals_3['Away Odds'].apply(decimal_to_american)
implied_odds_with_goals_3['Draw Odds American'] = implied_odds_with_goals_3['Draw Odds'].apply(decimal_to_american)

# Optionally, display the DataFrame to verify the conversion
implied_odds_with_goals_3[['Implied Home Odds', 'Implied Home Odds American', 
        'Implied Away Odds', 'Implied Away Odds American', 
        'Implied Draw Odds', 'Implied Draw Odds American',
        'Home Odds', 'Home Odds American', 
        'Away Odds', 'Away Odds American', 
        'Draw Odds', 'Draw Odds American']]



# Create a new DataFrame by copying the original DataFrame
new_df = implied_odds_with_goals_3.copy()

# Replace decimal odds columns with their American odds counterparts
new_df['Implied Home Odds'] = new_df['Implied Home Odds American']
new_df['Implied Away Odds'] = new_df['Implied Away Odds American']
new_df['Implied Draw Odds'] = new_df['Implied Draw Odds American']
new_df['Home Odds'] = new_df['Home Odds American']
new_df['Away Odds'] = new_df['Away Odds American']
new_df['Draw Odds'] = new_df['Draw Odds American']

# Drop the American odds columns as they've been swapped in, if desired
new_df.drop(columns=['Implied Home Odds American', 'Implied Away Odds American', 
                     'Implied Draw Odds American', 'Draw Odds American', 
                     'Home Odds American', 'Away Odds American'], inplace=True)

# Optionally, rename columns back to original if preferred, for clarity
# This step is optional and may be desired for presentation or further processing
column_renames = {
    'Implied Home Odds': 'Implied Home Odds',
    'Implied Away Odds': 'Implied Away Odds',
    'Implied Draw Odds': 'Implied Draw Odds',
    'Home Odds': 'Home Odds',
    'Away Odds': 'Away Odds',
    'Draw Odds': 'Draw Odds',
}
new_df.rename(columns=column_renames, inplace=True)

new_df['League'] = new_df['League'].astype(int)


# Define the new column order
new_column_order = [
    'Game Matchup',
    'Predicted Home Goals',
    'Predicted Away Goals',
    'Probability Home Win',
    'Probability Away Win',
    'Probability Draw',
    'Implied Home Odds',
    'Implied Away Odds',
    'Implied Draw Odds',
    'Home Odds',
    'Away Odds',
    'Draw Odds',
    'Home Win Edge',
    'Away Win Edge',
    'Draw Edge',
    'Start Time',
    'League'
]

# Reorder the DataFrame according to the new column order
new_df = new_df[new_column_order]

# Round the goals columns to two decimal places
new_df['Predicted Home Goals'] = new_df['Predicted Home Goals'].round(2)
new_df['Predicted Away Goals'] = new_df['Predicted Away Goals'].round(2)
# Map numeric league values to league names
league_mapping = {
    1: 'Premier League',
    2: 'Serie A',
    3: 'Bundesliga',
    4: 'La Liga',
    5: 'Ligue Une'
}
new_df['League'] = new_df['League'].replace(league_mapping)


# Display the DataFrame to verify the changes
new_df


# Save the DataFrame to a CSV file
new_df.to_csv('big_5_odds_and_projections_5-18_weekend.csv', index=False)



import subprocess

def run_command(command):
    result = subprocess.run(command, shell=True, text=True, capture_output=True)
    if result.stderr:
        print("Error:", result.stderr)
    else:
        print("Output:", result.stdout)

# Add, commit, pull, and then push
run_command('git add "FULL PREDICTING MATCHES.ipynb"')
run_command('git commit -m "Update notebook with latest changes"')
run_command('git pull origin main')  # Pull before pushing to ensure the local repo is up-to-date
run_command('git push origin main')  # Adjust branch name if necessary



implied_odds_with_goals.columns











results_df.to_csv('match_predictions.csv', index=False)


results_df.columns
