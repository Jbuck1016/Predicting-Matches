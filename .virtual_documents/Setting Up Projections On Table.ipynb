import pandas as pd

# Replace 'your_file.csv' with the path to your CSV file
file_path = 'big_5_odds_and_projections_5-18_weekend.csv'
big_df = pd.read_csv(file_path)

# Rename columns in big_df
big_df = big_df.rename(columns={
    'Predicted Home Goals': 'Projected Home Goals',
    'Predicted Away Goals': 'Projected Away Goals',
    'Probability Home Win': 'Home Win Probability',
    'Probability Away Win': 'Away Win Probability',
    'Probability Draw': 'Draw Probability'
})

# Create the 'Projected Total Goals' column
big_df['Projected Total Goals'] = big_df['Projected Home Goals'] + big_df['Projected Away Goals']

# Convert probabilities to percentage format and round to two decimal places
big_df['Home Win Probability'] = (big_df['Home Win Probability'] * 100).round(2).astype(str) + '%'
big_df['Away Win Probability'] = (big_df['Away Win Probability'] * 100).round(2).astype(str) + '%'
big_df['Draw Probability'] = (big_df['Draw Probability'] * 100).round(2).astype(str) + '%'

# Display the DataFrame to verify the changes
big_df


import pandas as pd

# Replace 'your_file.csv' with the path to your CSV file
file_path = 'big_5_odds_and_projections_5-18_weekend.csv'
big_df = pd.read_csv(file_path)

# Rename columns in big_df
big_df = big_df.rename(columns={
    'Predicted Home Goals': 'Projected Home Goals',
    'Predicted Away Goals': 'Projected Away Goals',
    'Probability Home Win': 'Home Win Probability',
    'Probability Away Win': 'Away Win Probability',
    'Probability Draw': 'Draw Probability'
})

# Create the 'Projected Total Goals' column
big_df['Projected Total Goals'] = big_df['Projected Home Goals'] + big_df['Projected Away Goals']

# Convert probabilities to percentage format and round to two decimal places
big_df['Home Win Probability'] = (big_df['Home Win Probability'] * 100).round(2).astype(str) + '%'
big_df['Away Win Probability'] = (big_df['Away Win Probability'] * 100).round(2).astype(str) + '%'
big_df['Draw Probability'] = (big_df['Draw Probability'] * 100).round(2).astype(str) + '%'



# Sort by 'Start Time'
big_df = big_df.sort_values(by='Start Time')

# Function to apply bold text styling
def bold_text(value):
    return "font-weight: bold"

# Function to generate color backgrounds based on column type
def generate_color_background(column_type):
    def color_background(val):
        try:
            if isinstance(val, str) and "%" in val:
                num_val = float(val.rstrip('%'))
            else:
                num_val = float(val)
            
            if column_type == "probability":
                if num_val >= 50:
                    return 'background-color: lightgreen'
                elif num_val > 25 and num_val < 50:
                    return 'background-color: yellow'
                elif num_val <= 25:
                    return 'background-color: salmon'
            elif column_type == "edge":
                if num_val > 0.15:
                    return 'background-color: lightgreen'
                elif num_val <= 0.15:
                    return 'background-color: salmon'
        except ValueError:
            pass
        return ''
    return color_background

# Function to color goals based on comparison
def color_goals(row):
    colors = [''] * len(row)
    home_goals = float(row['Projected Home Goals'])
    away_goals = float(row['Projected Away Goals'])
    if home_goals > away_goals:
        colors[row.index.get_loc('Projected Home Goals')] = 'background-color: lightgreen'
        colors[row.index.get_loc('Projected Away Goals')] = 'background-color: salmon'
    elif away_goals > home_goals:
        colors[row.index.get_loc('Projected Home Goals')] = 'background-color: lightgreen'
        colors[row.index.get_loc('Projected Away Goals')] = 'background-color: salmon'
    return colors

# Odds formatter to remove unnecessary decimal places
def odds_formatter(value):
    try:
        float_val = float(value)
        if float_val.is_integer():
            return f"{int(float_val)}"
        else:
            return f"{float_val}"
    except ValueError:
        return value

# Initialize styled_df from big_df using the .style accessor
styled_df = big_df.style

# Apply all defined stylings and formatting
styled_df = styled_df.applymap(bold_text, subset=['Game Matchup'])\
    .applymap(generate_color_background("edge"), subset=['Home Win Edge', 'Away Win Edge', 'Draw Edge'])\
    .applymap(generate_color_background("probability"), subset=['Home Win Probability', 'Away Win Probability', 'Draw Probability'])\
    .apply(color_goals, axis=1, subset=['Projected Home Goals', 'Projected Away Goals'])\
    .format({col: odds_formatter for col in ['Implied Home Odds', 'Implied Away Odds', 'Implied Draw Odds', 'Home Odds', 'Away Odds', 'Draw Odds']}, na_rep="-")\
    .format({col: '{:.2%}' for col in ['Home Win Probability', 'Away Win Probability', 'Draw Probability']})\
    .format({col: '{:.2f}' for col in ['Home Win Edge', 'Away Win Edge', 'Draw Edge', 'Projected Home Goals', 'Projected Away Goals', 'Projected Total Goals']})

# Note: This styled_df is ready for display in a Jupyter notebook or for exporting to HTML.
# To save the styled DataFrame as an HTML file: styled_df.to_html('styled_dataframe.html')

# Display the styled DataFrame
styled_df



styled_df


# Assuming styled_df is your styled DataFrame
html_file_path = '5-18_full_table.html'

# Save the styled DataFrame to an HTML file
styled_df.to_html(html_file_path)

print(f'The styled table has been saved to {html_file_path}')



import imgkit

# Specify the full path to the wkhtmltoimage executable
path_to_wkhtmltoimage = r'C:\Users\jbuck\wkhtmltopdf\bin\wkhtmltoimage.exe'  # Adjusted path

config = imgkit.config(wkhtmltoimage=path_to_wkhtmltoimage)

html_data = styled_df.to_html()

# Save the HTML table as an image
image_file_path = r'C:\Users\jbuck\Dropbox\Soccer_Projects\Betting\Model Projections\May 18th Weekend\Full Projections Table.png'

imgkit.from_string(html_data, image_file_path, config=config)
print(f'The table has been saved as an image to {image_file_path}')



import pandas as pd

# Assuming 'big_df' is your DataFrame and it has been defined earlier in your script.

# Filter the DataFrame for rows with any betting edge greater than 0.15
filtered_df = big_df[(big_df['Home Win Edge'] > 0.15) | (big_df['Away Win Edge'] > 0.15) | (big_df['Draw Edge'] > 0.15)]

# Additionally filter out edge columns that do not exceed the 0.15 threshold
edge_columns = ['Home Win Edge', 'Away Win Edge', 'Draw Edge']
for col in edge_columns:
    filtered_df.loc[filtered_df[col] <= 0.15, col] = None  # Set to NaN for columns under the threshold

big_df = big_df.sort_values(by='Start Time')


# Function to apply bold text styling
def bold_text(value):
    return "font-weight: bold"

# Function to generate color backgrounds based on column type
def generate_color_background(column_type):
    def color_background(val):
        if pd.isna(val):
            return ''  # No styling for NaN values
        try:
            num_val = float(val)
            if column_type == "probability":
                if num_val >= 50:
                    return 'background-color: lightgreen'
                elif num_val > 25 and num_val < 50:
                    return 'background-color: yellow'
                elif num_val <= 25:
                    return 'background-color: salmon'
            elif column_type == "edge":
                if num_val > 0.15:
                    return 'background-color: lightgreen'
                elif num_val <= 0.15:
                    return 'background-color: salmon'
        except ValueError:
            pass
        return ''
    return color_background

# Function to color goals based on comparison
def color_goals(row):
    colors = [''] * len(row)
    home_goals = float(row['Projected Home Goals'])
    away_goals = float(row['Projected Away Goals'])
    if home_goals > away_goals:
        colors[row.index.get_loc('Projected Home Goals')] = 'background-color: lightgreen'
        colors[row.index.get_loc('Projected Away Goals')] = 'background-color: salmon'
    elif away_goals > home_goals:
        colors[row.index.get_loc('Projected Home Goals')] = 'background-color: lightgreen'
        colors[row.index.get_loc('Projected Away Goals')] = 'background-color: salmon'
    return colors

# Odds formatter to remove unnecessary decimal places
def odds_formatter(value):
    try:
        float_val = float(value)
        if float_val.is_integer():
            return f"{int(float_val)}"
        else:
            return f"{float_val}"
    except ValueError:
        return value

# Initialize styled_df from filtered_df using the .style accessor
only_bets_styled_df = filtered_df.style

# Apply all defined stylings and formatting
only_bets_styled_df = only_bets_styled_df.applymap(bold_text, subset=['Game Matchup'])\
    .applymap(generate_color_background("edge"), subset=edge_columns)\
    .applymap(generate_color_background("probability"), subset=['Home Win Probability', 'Away Win Probability', 'Draw Probability'])\
    .apply(color_goals, axis=1, subset=['Projected Home Goals', 'Projected Away Goals'])\
    .format({col: odds_formatter for col in ['Implied Home Odds', 'Implied Away Odds', 'Implied Draw Odds', 'Home Odds', 'Away Odds', 'Draw Odds']}, na_rep="-")\
    .format({col: '{:.2%}' for col in ['Home Win Probability', 'Away Win Probability', 'Draw Probability']})\
    .format({col: '{:.2f}' for col in edge_columns + ['Projected Home Goals', 'Projected Away Goals', 'Projected Total Goals']})

# Note: This styled_df is ready for display in a Jupyter notebook or for exporting to HTML.
# To save the styled DataFrame as an HTML file: styled_df.to_html('styled_dataframe.html')



# Assuming styled_df is your styled DataFrame
html_file_path = '5-14_only_bets.html'

# Save the styled DataFrame to an HTML file
only_bets_styled_df.to_html(html_file_path)

print(f'The styled table has been saved to {html_file_path}')

only_bets_styled_df


import imgkit

# Specify the full path to the wkhtmltoimage executable
path_to_wkhtmltoimage = r'C:\Users\jbuck\wkhtmltopdf\bin\wkhtmltoimage.exe'  # Adjusted path

config = imgkit.config(wkhtmltoimage=path_to_wkhtmltoimage)

html_data = only_bets_styled_df.to_html()

# Save the HTML table as an image
image_file_path = r'C:\Users\jbuck\Dropbox\Soccer_Projects\Betting\Model Projections\May 18th Weekend\Only Bets.png'

imgkit.from_string(html_data, image_file_path, config=config)
print(f'The table has been saved as an image to {image_file_path}')



import pandas as pd

# Function to convert American odds to decimal odds
def american_to_decimal(odds):
    if odds > 0:
        return (odds / 100) + 1
    elif odds < 0:
        return (100 / abs(odds)) + 1
    else:
        return 1  # Handle scenario where odds might be zero

# Function to apply the Kelly Criterion to calculate the bet amount
def kelly_criterion(row, base_max_bet):
    decimal_odds = american_to_decimal(row['Relevant Odds'])
    implied_decimal_odds = american_to_decimal(row['Relevant Implied Odds'])
    b = decimal_odds - 1
    p = 1 / implied_decimal_odds
    q = 1 - p
    kelly_fraction = (b * p - q) / b if b != 0 else 0
    kelly_bet = kelly_fraction * total_bankroll
    adjusted_max_bet = base_max_bet * (row['edge'] / 0.25)
    return kelly_fraction, min(max(0, kelly_bet), adjusted_max_bet)

# Load your DataFrame
file_path = 'big_5_odds_and_projections_5-18_weekend.csv'
big_df = pd.read_csv(file_path)

# Ensure 'Start Time' is in datetime format

# Rename columns in big_df
big_df = big_df.rename(columns={
    'Predicted Home Goals': 'Projected Home Goals',
    'Predicted Away Goals': 'Projected Away Goals',
    'Probability Home Win': 'Home Win Probability',
    'Probability Away Win': 'Away Win Probability',
    'Probability Draw': 'Draw Probability'
})

# Create the 'Projected Total Goals' column
big_df['Projected Total Goals'] = big_df['Projected Home Goals'] + big_df['Projected Away Goals']

# Convert probabilities to percentage format and round to two decimal places
big_df['Home Win Probability'] = (big_df['Home Win Probability'] * 100).round(2).astype(str) + '%'
big_df['Away Win Probability'] = (big_df['Away Win Probability'] * 100).round(2).astype(str) + '%'
big_df['Draw Probability'] = (big_df['Draw Probability'] * 100).round(2).astype(str) + '%'

# Reshape the 'edge' columns and filter
edges_melted = big_df.melt(
    id_vars=['Game Matchup', 'Projected Home Goals', 'Projected Away Goals', 'Home Odds', 'Away Odds', 'Draw Odds', 'Implied Home Odds', 'Implied Away Odds', 'Implied Draw Odds', 'Start Time'],
    value_vars=['Home Win Edge', 'Away Win Edge', 'Draw Edge'],
    var_name='edge_type',
    value_name='edge'
).query('edge > 0.25')

edges_melted['edge_type'] = edges_melted['edge_type'].map({
    'Home Win Edge': 'Home Edge',
    'Away Win Edge': 'Away Edge',
    'Draw Edge': 'Draw Edge'
})

# Extract relevant odds and implied odds based on the type of edge
edges_melted[['Relevant Odds', 'Relevant Implied Odds']] = edges_melted.apply(
    lambda row: pd.Series([row[f'{row["edge_type"].split()[0]} Odds'], row[f'Implied {row["edge_type"].split()[0]} Odds']]),
    axis=1
)

# Define total bankroll and base maximum bet per game
total_bankroll = 1000
base_max_bet_per_game = 100

# Calculate bet amounts and kelly fraction using the Kelly Criterion
edges_melted[['Kelly Fraction', 'Bet Amount']] = edges_melted.apply(lambda row: pd.Series(kelly_criterion(row, base_max_bet_per_game)), axis=1)

# Normalize if the total bets exceed the total bankroll
total_bets = edges_melted['Bet Amount'].sum()
if total_bets > total_bankroll:
    normalization_factor = total_bankroll / total_bets
    edges_melted['Bet Amount'] *= normalization_factor

# Calculate 'To Win' based on the bet amount and the odds
edges_melted['Decimal Odds'] = edges_melted['Relevant Odds'].apply(american_to_decimal)
edges_melted['To Win'] = edges_melted['Bet Amount'] * (edges_melted['Decimal Odds'] - 1)

# Sort the DataFrame by 'Start Time'
edges_melted = edges_melted.sort_values(by='Start Time')

# Styling the DataFrame
kc_styled_df = edges_melted.style.apply(
    lambda x: ['font-weight: bold' if x.name == 'Game Matchup' else '' for _ in x],
    axis=1
).apply(
    lambda x: ['background-color: lightgreen' if v > 0.15 else 'background-color: salmon' for v in x],
    subset=['edge'],
    axis=1
).format({
    'Kelly Fraction': "{:.2%}",
    'Decimal Odds': "{:.2f}",
    'Decimal Implied Odds': "{:.2f}",
    'Implied Probability': "{:.2%}",
    'Bet Amount': "${:,.2f}",
    'To Win': "${:,.2f}"
})

# Display or export the final DataFrame as HTML
kc_styled_html = kc_styled_df.to_html()
print(kc_styled_html)  # This will print the HTML string which can be displayed in Jupyter or saved to an HTML file



# Assuming styled_df is your styled DataFrame
html_file_path = '5-14_kc_table.html'

# Save the styled DataFrame to an HTML file
kc_styled_df.to_html(html_file_path)

print(f'The styled table has been saved to {html_file_path}')



import imgkit

# Specify the full path to the wkhtmltoimage executable
path_to_wkhtmltoimage = r'C:\Users\jbuck\wkhtmltopdf\bin\wkhtmltoimage.exe'  # Adjusted path

config = imgkit.config(wkhtmltoimage=path_to_wkhtmltoimage)

html_data = kc_styled_df.to_html()

# Save the HTML table as an image
image_file_path = r'C:\Users\jbuck\Dropbox\Soccer_Projects\Betting\Model Projections\May 18th Weekend\Kelly Criteron Model Projections For May 18th Weekend Games.png'

imgkit.from_string(html_data, image_file_path, config=config)
print(f'The table has been saved as an image to {image_file_path}')



# Assuming the necessary functions like bold_text, generate_color_background, color_goals, and odds_formatter are already defined as in previous examples.

# Define the columns you want to format as percentages
percent_cols = ['Home Win Probability', 'Away Win Probability', 'Draw Probability']

# Continue with your previous code, now with percent_cols defined
premier_league_df = big_df[big_df['League'].str.contains("Premier League", na=False)]

# Check if the filtered DataFrame is not empty
if not premier_league_df.empty:
    # Apply the styling to the filtered DataFrame
    styled_premier_league_df = premier_league_df.style\
        .map(bold_text, subset=['Game Matchup'])\
        .map(generate_color_background("edge"), subset=['Home Win Edge', 'Away Win Edge', 'Draw Edge'])\
        .map(generate_color_background("probability"), subset=percent_cols)\
        .apply(color_goals, axis=1, subset=['Projected Home Goals', 'Projected Away Goals'])\
        .set_table_styles([{'selector': 'th', 'props': [('font-style', 'italic')]}], overwrite=False)\
        .set_properties(**{'border': '1px solid black'})\
        .format({col: odds_formatter for col in ['Implied Home Odds', 'Implied Away Odds', 'Implied Draw Odds', 'Home Odds', 'Away Odds', 'Draw Odds']}, na_rep="-")\
        .format({col: '{:.2%}' for col in percent_cols})\
        .format({col: '{:.2f}' for col in ['Home Win Edge', 'Away Win Edge', 'Draw Edge', 'Projected Home Goals', 'Projected Away Goals', 'Projected Total Goals']})

    # Now you can display the styled DataFrame in a Jupyter notebook directly,
    # or save it to an HTML file if needed
    html_file_path = 'premier_league_table.html'
    styled_premier_league_df.to_html(html_file_path)
    print(f"The Premier League table has been saved to {html_file_path}")
else:
    print("There are no Premier League teams in the table.")

import imgkit

# Specify the full path to the wkhtmltoimage executable
path_to_wkhtmltoimage = r'C:\Users\jbuck\wkhtmltopdf\bin\wkhtmltoimage.exe'  # Adjusted path

config = imgkit.config(wkhtmltoimage=path_to_wkhtmltoimage)

html_data = styled_premier_league_df.to_html()

# Save the HTML table as an image
image_file_path = r'C:\Users\jbuck\Dropbox\Soccer_Projects\Betting\Model Projections\May 18th Weekend\EPL Projections Table.png'
imgkit.from_string(html_data, image_file_path, config=config)
print(f'The Premier League table has been saved as an image to {image_file_path}')




# Assuming the necessary functions like bold_text, generate_color_background, color_goals, and odds_formatter are already defined as in previous examples.

# Define the columns you want to format as percentages
percent_cols = ['Home Win Probability', 'Away Win Probability', 'Draw Probability']

# Continue with your previous code, now with percent_cols defined
la_liga_df = big_df[big_df['League'].str.contains("La Liga", na=False)]

# Check if the filtered DataFrame is not empty
if not la_liga_df.empty:
    # Apply the styling to the filtered DataFrame
    styled_la_liga_df = la_liga_df.style\
        .map(bold_text, subset=['Game Matchup'])\
        .map(generate_color_background("edge"), subset=['Home Win Edge', 'Away Win Edge', 'Draw Edge'])\
        .map(generate_color_background("probability"), subset=percent_cols)\
        .apply(color_goals, axis=1, subset=['Projected Home Goals', 'Projected Away Goals'])\
        .set_table_styles([{'selector': 'th', 'props': [('font-style', 'italic')]}], overwrite=False)\
        .set_properties(**{'border': '1px solid black'})\
        .format({col: odds_formatter for col in ['Implied Home Odds', 'Implied Away Odds', 'Implied Draw Odds', 'Home Odds', 'Away Odds', 'Draw Odds']}, na_rep="-")\
        .format({col: '{:.2%}' for col in percent_cols})\
        .format({col: '{:.2f}' for col in ['Home Win Edge', 'Away Win Edge', 'Draw Edge', 'Projected Home Goals', 'Projected Away Goals', 'Projected Total Goals']})

    # Now you can display the styled DataFrame in a Jupyter notebook directly,
    # or save it to an HTML file if needed
    html_file_path = 'la_liga_table.html'
    styled_la_liga_df.to_html(html_file_path)
    print(f"The La Liga table has been saved to {html_file_path}")
else:
    print("There are no La Liga teams in the table.")
import imgkit

# Specify the full path to the wkhtmltoimage executable
path_to_wkhtmltoimage = r'C:\Users\jbuck\wkhtmltopdf\bin\wkhtmltoimage.exe'  # Adjusted path

config = imgkit.config(wkhtmltoimage=path_to_wkhtmltoimage)

html_data = styled_la_liga_df.to_html()

# Save the HTML table as an image
image_file_path = r'C:\Users\jbuck\Dropbox\Soccer_Projects\Betting\Model Projections\May 18th Weekend\La Liga Projections Table.png'

imgkit.from_string(html_data, image_file_path, config=config)
print(f'The La Liga table has been saved as an image to {image_file_path}')



# Assuming the necessary functions like bold_text, generate_color_background, color_goals, and odds_formatter are already defined as in previous examples.

# Define the columns you want to format as percentages
percent_cols = ['Home Win Probability', 'Away Win Probability', 'Draw Probability']

# Continue with your previous code, now with percent_cols defined
bundesliga_df = big_df[big_df['League'].str.contains("Bundesliga", na=False)]

# Check if the filtered DataFrame is not empty
if not bundesliga_df.empty:
    # Apply the styling to the filtered DataFrame
    styled_bundesliga_df = bundesliga_df.style\
        .map(bold_text, subset=['Game Matchup'])\
        .map(generate_color_background("edge"), subset=['Home Win Edge', 'Away Win Edge', 'Draw Edge'])\
        .map(generate_color_background("probability"), subset=percent_cols)\
        .apply(color_goals, axis=1, subset=['Projected Home Goals', 'Projected Away Goals'])\
        .set_table_styles([{'selector': 'th', 'props': [('font-style', 'italic')]}], overwrite=False)\
        .set_properties(**{'border': '1px solid black'})\
        .format({col: odds_formatter for col in ['Implied Home Odds', 'Implied Away Odds', 'Implied Draw Odds', 'Home Odds', 'Away Odds', 'Draw Odds']}, na_rep="-")\
        .format({col: '{:.2%}' for col in percent_cols})\
        .format({col: '{:.2f}' for col in ['Home Win Edge', 'Away Win Edge', 'Draw Edge', 'Projected Home Goals', 'Projected Away Goals', 'Projected Total Goals']})

    # Now you can display the styled DataFrame in a Jupyter notebook directly,
    # or save it to an HTML file if needed
    html_file_path = 'bundesliga_table.html'
    styled_bundesliga_df.to_html(html_file_path)
    print(f"The La Liga table has been saved to {html_file_path}")
else:
    print("There are no La Liga teams in the table.")
import imgkit

# Specify the full path to the wkhtmltoimage executable
path_to_wkhtmltoimage = r'C:\Users\jbuck\wkhtmltopdf\bin\wkhtmltoimage.exe'  # Adjusted path

config = imgkit.config(wkhtmltoimage=path_to_wkhtmltoimage)

html_data = styled_bundesliga_df.to_html()

# Save the HTML table as an image
image_file_path = r'C:\Users\jbuck\Dropbox\Soccer_Projects\Betting\Model Projections\May 18th Weekend\Bundesliga Projections Table.png'


imgkit.from_string(html_data, image_file_path, config=config)
print(f'The La Liga table has been saved as an image to {image_file_path}')



# Assuming the necessary functions like bold_text, generate_color_background, color_goals, and odds_formatter are already defined as in previous examples.

# Define the columns you want to format as percentages
percent_cols = ['Home Win Probability', 'Away Win Probability', 'Draw Probability']

# Continue with your previous code, now with percent_cols defined
ligue_une_df = big_df[big_df['League'].str.contains("Ligue Une", na=False)]

# Check if the filtered DataFrame is not empty
if not ligue_une_df.empty:
    # Apply the styling to the filtered DataFrame
    styled_ligue_une_df = ligue_une_df.style\
        .map(bold_text, subset=['Game Matchup'])\
        .map(generate_color_background("edge"), subset=['Home Win Edge', 'Away Win Edge', 'Draw Edge'])\
        .map(generate_color_background("probability"), subset=percent_cols)\
        .apply(color_goals, axis=1, subset=['Projected Home Goals', 'Projected Away Goals'])\
        .set_table_styles([{'selector': 'th', 'props': [('font-style', 'italic')]}], overwrite=False)\
        .set_properties(**{'border': '1px solid black'})\
        .format({col: odds_formatter for col in ['Implied Home Odds', 'Implied Away Odds', 'Implied Draw Odds', 'Home Odds', 'Away Odds', 'Draw Odds']}, na_rep="-")\
        .format({col: '{:.2%}' for col in percent_cols})\
        .format({col: '{:.2f}' for col in ['Home Win Edge', 'Away Win Edge', 'Draw Edge', 'Projected Home Goals', 'Projected Away Goals', 'Projected Total Goals']})

    # Now you can display the styled DataFrame in a Jupyter notebook directly,
    # or save it to an HTML file if needed
    html_file_path = 'ligue_une_table.html'
    styled_ligue_une_df.to_html(html_file_path)
    print(f"The La Liga table has been saved to {html_file_path}")
else:
    print("There are no Ligue Une teams in the table.")
import imgkit

# Specify the full path to the wkhtmltoimage executable
path_to_wkhtmltoimage = r'C:\Users\jbuck\wkhtmltopdf\bin\wkhtmltoimage.exe'  # Adjusted path

config = imgkit.config(wkhtmltoimage=path_to_wkhtmltoimage)

html_data = styled_ligue_une_df.to_html()

# Save the HTML table as an image
image_file_path = r'C:\Users\jbuck\Dropbox\Soccer_Projects\Betting\Model Projections\May 18th Weekend\Ligue Une Projections Table.png'

imgkit.from_string(html_data, image_file_path, config=config)
print(f'The La Liga table has been saved as an image to {image_file_path}')



# Assuming the necessary functions like bold_text, generate_color_background, color_goals, and odds_formatter are already defined as in previous examples.

# Define the columns you want to format as percentages
percent_cols = ['Home Win Probability', 'Away Win Probability', 'Draw Probability']

# Continue with your previous code, now with percent_cols defined
serie_a_df = big_df[big_df['League'].str.contains("Serie A", na=False)]

# Check if the filtered DataFrame is not empty
if not serie_a_df.empty:
    # Apply the styling to the filtered DataFrame
    styled_serie_a_df = serie_a_df.style\
        .map(bold_text, subset=['Game Matchup'])\
        .map(generate_color_background("edge"), subset=['Home Win Edge', 'Away Win Edge', 'Draw Edge'])\
        .map(generate_color_background("probability"), subset=percent_cols)\
        .apply(color_goals, axis=1, subset=['Projected Home Goals', 'Projected Away Goals'])\
        .set_table_styles([{'selector': 'th', 'props': [('font-style', 'italic')]}], overwrite=False)\
        .set_properties(**{'border': '1px solid black'})\
        .format({col: odds_formatter for col in ['Implied Home Odds', 'Implied Away Odds', 'Implied Draw Odds', 'Home Odds', 'Away Odds', 'Draw Odds']}, na_rep="-")\
        .format({col: '{:.2%}' for col in percent_cols})\
        .format({col: '{:.2f}' for col in ['Home Win Edge', 'Away Win Edge', 'Draw Edge', 'Projected Home Goals', 'Projected Away Goals', 'Projected Total Goals']})

    # Now you can display the styled DataFrame in a Jupyter notebook directly,
    # or save it to an HTML file if needed
    html_file_path = 'serie_a_table.html'
    styled_serie_a_df.to_html(html_file_path)
    print(f"The La Liga table has been saved to {html_file_path}")
else:
    print("There are no Ligue Une teams in the table.")
import imgkit

# Specify the full path to the wkhtmltoimage executable
path_to_wkhtmltoimage = r'C:\Users\jbuck\wkhtmltopdf\bin\wkhtmltoimage.exe'  # Adjusted path

config = imgkit.config(wkhtmltoimage=path_to_wkhtmltoimage)

html_data = styled_serie_a_df.to_html()

# Save the HTML table as an image
image_file_path = r'C:\Users\jbuck\Dropbox\Soccer_Projects\Betting\Model Projections\May 18th Weekend\Serie A Projections Table.png'

imgkit.from_string(html_data, image_file_path, config=config)
print(f'The La Liga table has been saved as an image to {image_file_path}')



import subprocess

def run_command(command):
    result = subprocess.run(command, shell=True, text=True, capture_output=True)
    if result.stderr:
        print("Error:", result.stderr)
    else:
        print("Output:", result.stdout)

# Add, commit, pull, and then push
run_command('git add "Setting Up Projections On Table.ipynb"')
run_command('git commit -m "Update notebook with latest changes"')
run_command('git pull origin main')  # Pull before pushing to ensure the local repo is up-to-date
run_command('git push origin main')  # Adjust branch name if necessary

